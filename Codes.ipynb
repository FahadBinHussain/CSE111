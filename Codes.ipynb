{
 "cells": [
  {
   "attachments": {},
   "cell_type": "markdown",
   "metadata": {},
   "source": [
    "Day 0"
   ]
  },
  {
   "attachments": {},
   "cell_type": "markdown",
   "metadata": {},
   "source": [
    "List"
   ]
  },
  {
   "attachments": {},
   "cell_type": "markdown",
   "metadata": {},
   "source": [
    "1"
   ]
  },
  {
   "cell_type": "code",
   "execution_count": 1,
   "metadata": {},
   "outputs": [],
   "source": [
    "numbers = {}\n",
    "while True:\n",
    "    num = input()\n",
    "    if num.upper() == \"STOP\":\n",
    "        break\n",
    "    if num in numbers:\n",
    "        numbers[num] += 1\n",
    "    else:\n",
    "        numbers[num] = 1\n",
    "\n",
    "for num, freq in numbers.items():\n",
    "    print(num, \"-\", freq, \"times\")\n"
   ]
  },
  {
   "attachments": {},
   "cell_type": "markdown",
   "metadata": {},
   "source": [
    "2"
   ]
  },
  {
   "cell_type": "code",
   "execution_count": null,
   "metadata": {},
   "outputs": [],
   "source": [
    "n = int(input())\n",
    "sums = []\n",
    "lists = []\n",
    "for i in range(n):\n",
    "    lst = list(map(int, input().split()))\n",
    "    sums.append(sum(lst))\n",
    "    lists.append(lst)\n",
    "max_sum_index = sums.index(max(sums))\n",
    "print(max(sums))\n",
    "print(lists[max_sum_index])\n"
   ]
  },
  {
   "attachments": {},
   "cell_type": "markdown",
   "metadata": {},
   "source": [
    "String"
   ]
  },
  {
   "attachments": {},
   "cell_type": "markdown",
   "metadata": {},
   "source": [
    "1"
   ]
  },
  {
   "cell_type": "code",
   "execution_count": 2,
   "metadata": {},
   "outputs": [
    {
     "name": "stdout",
     "output_type": "stream",
     "text": [
      "banana\n"
     ]
    }
   ],
   "source": [
    "string = \"HOusE\"\n",
    "string = \"ApplE\"\n",
    "string = \"BaNaNa\"\n",
    "\n",
    "\n",
    "uppercase = 0\n",
    "lowercase = 0\n",
    "\n",
    "for i in string:\n",
    "    if i.isupper():\n",
    "        uppercase += 1\n",
    "    elif i.islower():\n",
    "        lowercase += 1\n",
    "\n",
    "print(string.upper() if uppercase > lowercase else string.lower())        \n"
   ]
  },
  {
   "attachments": {},
   "cell_type": "markdown",
   "metadata": {},
   "source": [
    "2"
   ]
  },
  {
   "cell_type": "code",
   "execution_count": 3,
   "metadata": {},
   "outputs": [
    {
     "name": "stdout",
     "output_type": "stream",
     "text": [
      "WORD\n"
     ]
    }
   ],
   "source": [
    "string = \"213213\"\n",
    "string = \"jhg231j213\"\n",
    "string = \"Hello\"\n",
    "\n",
    "if string.isdigit():\n",
    "    print(\"NUMBER\")\n",
    "elif string.isalpha():\n",
    "    print(\"WORD\")\n",
    "else:\n",
    "    print(\"MIXED\")"
   ]
  },
  {
   "attachments": {},
   "cell_type": "markdown",
   "metadata": {},
   "source": [
    "3"
   ]
  },
  {
   "cell_type": "code",
   "execution_count": 4,
   "metadata": {},
   "outputs": [
    {
     "name": "stdout",
     "output_type": "stream",
     "text": [
      "BLANK\n",
      "\n"
     ]
    }
   ],
   "source": [
    "string = \"baNgladEsh\"\n",
    "string = \"coDIng\"\n",
    "\n",
    "first_upper = -1\n",
    "last_upper = -1\n",
    "\n",
    "for i in range(len(string)):\n",
    "    if string[i].isupper():\n",
    "        if first_upper == -1:\n",
    "            first_upper = i\n",
    "        else:\n",
    "            last_upper = i\n",
    "\n",
    "if last_upper == first_upper + 1:\n",
    "    print(\"BLANK\")\n",
    "\n",
    "result = string[first_upper+1:last_upper]\n",
    "\n",
    "print(result)   \n"
   ]
  },
  {
   "attachments": {},
   "cell_type": "markdown",
   "metadata": {},
   "source": [
    "4"
   ]
  },
  {
   "cell_type": "code",
   "execution_count": 5,
   "metadata": {},
   "outputs": [
    {
     "name": "stdout",
     "output_type": "stream",
     "text": [
      "Nothing in common\n",
      "\n"
     ]
    }
   ],
   "source": [
    "string = \"harry\"\n",
    "string_to_check_against = \"hermione\"\n",
    "string = \"dean\"\n",
    "string_to_check_against = \"tom\"\n",
    "\n",
    "same_str = \"\"\n",
    "\n",
    "for str in string:\n",
    "    if str in string_to_check_against:\n",
    "        same_str += str\n",
    "\n",
    "if same_str == \"\":\n",
    "    print(\"Nothing in common\")\n",
    "    \n",
    "print(same_str)\n"
   ]
  },
  {
   "attachments": {},
   "cell_type": "markdown",
   "metadata": {},
   "source": [
    "5"
   ]
  },
  {
   "cell_type": "code",
   "execution_count": 6,
   "metadata": {},
   "outputs": [
    {
     "name": "stdout",
     "output_type": "stream",
     "text": [
      "OK\n"
     ]
    }
   ],
   "source": [
    "password = \"ohMyBR@CU\"\n",
    "password = \"ohmybracu\"\n",
    "password = \"OhMyBR@CU20\"\n",
    "\n",
    "errors = []\n",
    "if not any(char.isupper() for char in password):\n",
    "    errors.append(\"Uppercase character missing\")\n",
    "if not any(char.islower() for char in password):\n",
    "    errors.append(\"Lowercase character missing\")\n",
    "if not any(char.isdigit() for char in password):\n",
    "    errors.append(\"Digit missing\")\n",
    "if not any(char in \"_@#$\" for char in password):\n",
    "    errors.append(\"Special character missing\")\n",
    "\n",
    "if errors:\n",
    "    print(\", \".join(errors))\n",
    "else:\n",
    "    print(\"OK\")\n"
   ]
  },
  {
   "attachments": {},
   "cell_type": "markdown",
   "metadata": {},
   "source": []
  }
 ],
 "metadata": {
  "kernelspec": {
   "display_name": "Python 3",
   "language": "python",
   "name": "python3"
  },
  "language_info": {
   "codemirror_mode": {
    "name": "ipython",
    "version": 3
   },
   "file_extension": ".py",
   "mimetype": "text/x-python",
   "name": "python",
   "nbconvert_exporter": "python",
   "pygments_lexer": "ipython3",
   "version": "3.11.4"
  },
  "orig_nbformat": 4
 },
 "nbformat": 4,
 "nbformat_minor": 2
}
