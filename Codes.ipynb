{
 "cells": [
  {
   "attachments": {},
   "cell_type": "markdown",
   "metadata": {},
   "source": [
    "Day 0"
   ]
  },
  {
   "attachments": {},
   "cell_type": "markdown",
   "metadata": {},
   "source": [
    "String"
   ]
  },
  {
   "attachments": {},
   "cell_type": "markdown",
   "metadata": {},
   "source": [
    "1"
   ]
  },
  {
   "cell_type": "code",
   "execution_count": 2,
   "metadata": {},
   "outputs": [
    {
     "name": "stdout",
     "output_type": "stream",
     "text": [
      "banana\n"
     ]
    }
   ],
   "source": [
    "string = \"HOusE\"\n",
    "string = \"ApplE\"\n",
    "string = \"BaNaNa\"\n",
    "\n",
    "\n",
    "uppercase = 0\n",
    "lowercase = 0\n",
    "\n",
    "for i in string:\n",
    "    if i.isupper():\n",
    "        uppercase += 1\n",
    "    elif i.islower():\n",
    "        lowercase += 1\n",
    "\n",
    "print(string.upper() if uppercase > lowercase else string.lower())        \n"
   ]
  },
  {
   "attachments": {},
   "cell_type": "markdown",
   "metadata": {},
   "source": [
    "2"
   ]
  },
  {
   "cell_type": "code",
   "execution_count": 3,
   "metadata": {},
   "outputs": [
    {
     "name": "stdout",
     "output_type": "stream",
     "text": [
      "WORD\n"
     ]
    }
   ],
   "source": [
    "string = \"213213\"\n",
    "string = \"jhg231j213\"\n",
    "string = \"Hello\"\n",
    "\n",
    "if string.isdigit():\n",
    "    print(\"NUMBER\")\n",
    "elif string.isalpha():\n",
    "    print(\"WORD\")\n",
    "else:\n",
    "    print(\"MIXED\")"
   ]
  },
  {
   "attachments": {},
   "cell_type": "markdown",
   "metadata": {},
   "source": [
    "3"
   ]
  },
  {
   "cell_type": "code",
   "execution_count": 4,
   "metadata": {},
   "outputs": [
    {
     "name": "stdout",
     "output_type": "stream",
     "text": [
      "BLANK\n",
      "\n"
     ]
    }
   ],
   "source": [
    "string = \"baNgladEsh\"\n",
    "string = \"coDIng\"\n",
    "\n",
    "first_upper = -1\n",
    "last_upper = -1\n",
    "\n",
    "for i in range(len(string)):\n",
    "    if string[i].isupper():\n",
    "        if first_upper == -1:\n",
    "            first_upper = i\n",
    "        else:\n",
    "            last_upper = i\n",
    "\n",
    "if last_upper == first_upper + 1:\n",
    "    print(\"BLANK\")\n",
    "\n",
    "result = string[first_upper+1:last_upper]\n",
    "\n",
    "print(result)   \n"
   ]
  },
  {
   "attachments": {},
   "cell_type": "markdown",
   "metadata": {},
   "source": [
    "4"
   ]
  },
  {
   "cell_type": "code",
   "execution_count": 5,
   "metadata": {},
   "outputs": [
    {
     "name": "stdout",
     "output_type": "stream",
     "text": [
      "Nothing in common\n",
      "\n"
     ]
    }
   ],
   "source": [
    "string = \"harry\"\n",
    "string_to_check_against = \"hermione\"\n",
    "string = \"dean\"\n",
    "string_to_check_against = \"tom\"\n",
    "\n",
    "same_str = \"\"\n",
    "\n",
    "for str in string:\n",
    "    if str in string_to_check_against:\n",
    "        same_str += str\n",
    "\n",
    "if same_str == \"\":\n",
    "    print(\"Nothing in common\")\n",
    "    \n",
    "print(same_str)\n"
   ]
  },
  {
   "attachments": {},
   "cell_type": "markdown",
   "metadata": {},
   "source": [
    "5"
   ]
  },
  {
   "cell_type": "code",
   "execution_count": 6,
   "metadata": {},
   "outputs": [
    {
     "name": "stdout",
     "output_type": "stream",
     "text": [
      "OK\n"
     ]
    }
   ],
   "source": [
    "password = \"ohMyBR@CU\"\n",
    "password = \"ohmybracu\"\n",
    "password = \"OhMyBR@CU20\"\n",
    "\n",
    "errors = []\n",
    "if not any(char.isupper() for char in password):\n",
    "    errors.append(\"Uppercase character missing\")\n",
    "if not any(char.islower() for char in password):\n",
    "    errors.append(\"Lowercase character missing\")\n",
    "if not any(char.isdigit() for char in password):\n",
    "    errors.append(\"Digit missing\")\n",
    "if not any(char in \"_@#$\" for char in password):\n",
    "    errors.append(\"Special character missing\")\n",
    "\n",
    "if errors:\n",
    "    print(\", \".join(errors))\n",
    "else:\n",
    "    print(\"OK\")\n"
   ]
  },
  {
   "attachments": {},
   "cell_type": "markdown",
   "metadata": {},
   "source": [
    "List"
   ]
  },
  {
   "attachments": {},
   "cell_type": "markdown",
   "metadata": {},
   "source": [
    "1"
   ]
  },
  {
   "cell_type": "code",
   "execution_count": 1,
   "metadata": {},
   "outputs": [
    {
     "name": "stdout",
     "output_type": "stream",
     "text": [
      "10 - 2 times\n",
      "20 - 2 times\n",
      "30 - 1 times\n",
      "50 - 1 times\n",
      "90 - 1 times\n"
     ]
    }
   ],
   "source": [
    "numbers = {}\n",
    "while True:\n",
    "    num = input()\n",
    "    if num.upper() == \"STOP\":\n",
    "        break\n",
    "    if num in numbers:\n",
    "        numbers[num] += 1\n",
    "    else:\n",
    "        numbers[num] = 1\n",
    "\n",
    "for num, freq in numbers.items():\n",
    "    print(num, \"-\", freq, \"times\")\n"
   ]
  },
  {
   "attachments": {},
   "cell_type": "markdown",
   "metadata": {},
   "source": [
    "2"
   ]
  },
  {
   "cell_type": "code",
   "execution_count": 2,
   "metadata": {},
   "outputs": [
    {
     "name": "stdout",
     "output_type": "stream",
     "text": [
      "33\n",
      "[10, 11, 12]\n"
     ]
    }
   ],
   "source": [
    "n = int(input())\n",
    "sums = []\n",
    "lists = []\n",
    "for i in range(n):\n",
    "    lst = list(map(int, input().split()))\n",
    "    sums.append(sum(lst))\n",
    "    lists.append(lst)\n",
    "max_sum_index = sums.index(max(sums))\n",
    "print(max(sums))\n",
    "print(lists[max_sum_index])\n"
   ]
  },
  {
   "attachments": {},
   "cell_type": "markdown",
   "metadata": {},
   "source": [
    "3"
   ]
  },
  {
   "cell_type": "code",
   "execution_count": 4,
   "metadata": {},
   "outputs": [
    {
     "name": "stdout",
     "output_type": "stream",
     "text": [
      "[6, 8, 10, 9, 12, 15, 18, 24, 30]\n"
     ]
    }
   ],
   "source": [
    "list1 = [int(i) for i in input().split()]\n",
    "list2 = [int(i) for i in input().split()]\n",
    "result = []\n",
    "for i in list1:\n",
    "    for j in list2:\n",
    "        result.append(i*j)\n",
    "print(result)\n"
   ]
  },
  {
   "attachments": {},
   "cell_type": "markdown",
   "metadata": {},
   "source": [
    "4"
   ]
  },
  {
   "cell_type": "code",
   "execution_count": 8,
   "metadata": {},
   "outputs": [
    {
     "name": "stdout",
     "output_type": "stream",
     "text": [
      "UB Jumper\n",
      "UB Jumper\n",
      "Not UB Jumper\n"
     ]
    }
   ],
   "source": [
    "def UB_Jupmer(List):\n",
    "    \"\"\"\n",
    "    Given a list as input, this function returns True if the input \n",
    "    list is a UB Jumper or return False otherwise.\n",
    "    \"\"\"\n",
    "    ref_list = [num for num in range(1, len(List))]\n",
    "    abs_diff = []\n",
    "\n",
    "    for i in range(len(List) - 1):\n",
    "        elem = List[i] - List[i + 1]\n",
    "        elem = abs(elem)\n",
    "        abs_diff.append(elem)\n",
    "\n",
    "    if sorted(ref_list) == sorted(abs_diff):\n",
    "        return True\n",
    "    else:\n",
    "        return False\n",
    "\n",
    "\n",
    "user_input = input()\n",
    "result = []\n",
    "while user_input != \"STOP\":\n",
    "    List = [int(num) for num in user_input.split()]\n",
    "\n",
    "    if UB_Jupmer(List):\n",
    "        result.append(\"UB Jumper\")\n",
    "    else:\n",
    "        result.append(\"Not UB Jumper\")\n",
    "\n",
    "    user_input = input()\n",
    "\n",
    "for output in result:\n",
    "    print(output)"
   ]
  },
  {
   "attachments": {},
   "cell_type": "markdown",
   "metadata": {},
   "source": [
    "5"
   ]
  },
  {
   "cell_type": "code",
   "execution_count": 13,
   "metadata": {},
   "outputs": [
    {
     "name": "stdout",
     "output_type": "stream",
     "text": [
      "2\n"
     ]
    }
   ],
   "source": [
    "member_count, times = tuple(int(num) for num in input().split())\n",
    "joined_data = [int(i) for i in input().split()]\n",
    "\n",
    "while len(joined_data) != member_count:\n",
    "    print(\n",
    "        \"Member count and member participation data doesn't match. Please enter member participation data again.\"\n",
    "    )\n",
    "    joined_data = [int(i) for i in input().split()]\n",
    "\n",
    "approved = [int(i) for i in joined_data if (i + times <= 5)]\n",
    "\n",
    "appr = len(approved)\n",
    "\n",
    "if appr < 3:\n",
    "    print(0)\n",
    "else:\n",
    "    if appr % 3 == 0:\n",
    "        print(appr // 3)\n",
    "    elif (appr - 1) % 3 == 0:\n",
    "        print((appr - 1) // 3)\n",
    "    elif (appr - 2) % 3 == 0:\n",
    "        print((appr - 2) // 3)"
   ]
  },
  {
   "attachments": {},
   "cell_type": "markdown",
   "metadata": {},
   "source": [
    "Dictionary"
   ]
  },
  {
   "attachments": {},
   "cell_type": "markdown",
   "metadata": {},
   "source": [
    "1"
   ]
  },
  {
   "cell_type": "code",
   "execution_count": 2,
   "metadata": {},
   "outputs": [
    {
     "name": "stdout",
     "output_type": "stream",
     "text": [
      "{'a': 400, 'b': 300, 'c': 200, 'd': 700, 'e': 200}\n",
      "Values: (200, 300, 400, 700)\n"
     ]
    }
   ],
   "source": [
    "def combine_dictionaries(dict_1, dict_2):\n",
    "    \"\"\"\n",
    "    Given two dictionaries, this function returns a new dictionary\n",
    "    combining the two input dictionaries and adding the values for\n",
    "    the common key.\n",
    "    \"\"\"\n",
    "    combined_dict = {}\n",
    "\n",
    "    for key in dict_1:\n",
    "        if key in dict_2:\n",
    "            new_value = dict_1[key] + dict_2[key]\n",
    "        else:\n",
    "            new_value = dict_1[key]\n",
    "\n",
    "        combined_dict[key] = new_value\n",
    "\n",
    "    for key in dict_2:\n",
    "        if key not in combined_dict:\n",
    "            combined_dict[key] = dict_2[key]\n",
    "\n",
    "    return combined_dict\n",
    "\n",
    "\n",
    "str_input_1 = input()  # \"a: 100, b: 100, c: 200, d: 300\" #Question Example Inputs\n",
    "str_input_2 = input()  # \"a: 300, b: 200, d: 400, e: 200\" #Question Example Inputs\n",
    "\n",
    "dict_1 = dict(\n",
    "    (x.strip(), int(y.strip()))\n",
    "    for x, y in (element.split(\":\") for element in str_input_1.split(\", \"))\n",
    ")\n",
    "\n",
    "dict_2 = dict(\n",
    "    (x.strip(), int(y.strip()))\n",
    "    for x, y in (element.split(\":\") for element in str_input_2.split(\", \"))\n",
    ")\n",
    "\n",
    "result = combine_dictionaries(dict_1, dict_2)\n",
    "unique_value = tuple(sorted(set(result[value] for value in result)))   #Made set for removing all the duplicate, then sorted and made into a tuple.\n",
    "print(result)\n",
    "print(f\"Values: {unique_value}\")"
   ]
  },
  {
   "attachments": {},
   "cell_type": "markdown",
   "metadata": {},
   "source": [
    "2"
   ]
  },
  {
   "cell_type": "code",
   "execution_count": 3,
   "metadata": {},
   "outputs": [
    {
     "name": "stdout",
     "output_type": "stream",
     "text": [
      "10 - 2 times\n",
      "20 - 2 times\n",
      "30 - 1 times\n",
      "50 - 1 times\n",
      "90 - 1 times\n"
     ]
    }
   ],
   "source": [
    "dict1={}\n",
    "count=1\n",
    "list1=[]\n",
    "while count>0:\n",
    "    num=input()\n",
    "    if num==\"STOP\":\n",
    "        break \n",
    "    else:\n",
    "        count+=1\n",
    "        if int(num) not in dict1:\n",
    "            dict1[int(num)]=1\n",
    "        else:\n",
    "            dict1[int(num)]+=1\n",
    "for key,value in dict1.items():\n",
    "    print(f\"{key} - {value} times\")\n",
    "    "
   ]
  },
  {
   "attachments": {},
   "cell_type": "markdown",
   "metadata": {},
   "source": [
    "3"
   ]
  },
  {
   "cell_type": "code",
   "execution_count": 5,
   "metadata": {},
   "outputs": [
    {
     "name": "stdout",
     "output_type": "stream",
     "text": [
      "{'value1': ['key1', 'key3'], 'value2': ['key2']}\n"
     ]
    }
   ],
   "source": [
    "def invert(dictionary):\n",
    "    \"\"\"\n",
    "    Given a dictionary as input, this function returns a new dictionary\n",
    "    with the \"value\" of the first dictionary as its \"key\" and a list of \n",
    "    \"key\" from the first dictionary as its \"value\".\n",
    "    \"\"\"\n",
    "    Dict = {}\n",
    "    for item1, item2 in dictionary.items():\n",
    "        if item2 in Dict:\n",
    "            Dict[item2] = Dict[item2] + [item1]\n",
    "        else:\n",
    "            Dict[item2] = [item1]\n",
    "            \n",
    "    return Dict\n",
    "\n",
    "\n",
    "str_input = input()  # \"Key1 : value1, Key2 : value2, key3 : value1\" #Question Input Example\n",
    "\n",
    "dictionary = dict(\n",
    "    (x.strip(), y.strip())\n",
    "    for x, y in (item.split(\":\") for item in str_input.split(\", \"))\n",
    ")\n",
    "\n",
    "result = invert(dictionary)\n",
    "print(result)"
   ]
  },
  {
   "attachments": {},
   "cell_type": "markdown",
   "metadata": {},
   "source": [
    "4"
   ]
  },
  {
   "cell_type": "code",
   "execution_count": 6,
   "metadata": {},
   "outputs": [
    {
     "name": "stdout",
     "output_type": "stream",
     "text": [
      "4433555555666110966677755531111"
     ]
    }
   ],
   "source": [
    "def key_map(string):\n",
    "    \"\"\"\n",
    "    Given a string, this function retruns the key presses needed \n",
    "    for that string to be entered on some basic cell phones.\n",
    "    \"\"\"\n",
    "    key_map = {\n",
    "        \".\": 1, \",\": 11, \"?\": 111, \"!\": 1111, \":\": 11111,\n",
    "        \"A\": 2, \"B\": 22, \"C\": 222,\n",
    "        \"D\": 3, \"E\": 33, \"F\": 333,\n",
    "        \"G\": 4, \"H\": 44, \"I\": 444,\n",
    "        \"J\": 5, \"K\": 55, \"L\": 555,\n",
    "        \"M\": 6, \"N\": 66, \"O\": 666,\n",
    "        \"P\": 7, \"Q\": 77, \"R\": 777, \"S\": 7777,\n",
    "        \"T\": 8, \"U\": 88, \"V\": 888,\n",
    "        \"W\": 9, \"X\": 99, \"Y\": 999, \"Z\": 9999,\n",
    "        \" \": 0\n",
    "    }\n",
    "    map = {2: \"ABC\", 3: \"DEF\"}\n",
    "    \n",
    "\n",
    "    return key_map.get(string, f\"(No-Key-For:{string})\")\n",
    "\n",
    "user_input = input().upper()\n",
    "for char in user_input:\n",
    "    key = key_map(char)\n",
    "    print(key, end=\"\")"
   ]
  }
 ],
 "metadata": {
  "kernelspec": {
   "display_name": "Python 3",
   "language": "python",
   "name": "python3"
  },
  "language_info": {
   "codemirror_mode": {
    "name": "ipython",
    "version": 3
   },
   "file_extension": ".py",
   "mimetype": "text/x-python",
   "name": "python",
   "nbconvert_exporter": "python",
   "pygments_lexer": "ipython3",
   "version": "3.11.4"
  },
  "orig_nbformat": 4
 },
 "nbformat": 4,
 "nbformat_minor": 2
}
