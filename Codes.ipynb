{
 "cells": [
  {
   "attachments": {},
   "cell_type": "markdown",
   "metadata": {},
   "source": [
    "Day 0"
   ]
  },
  {
   "attachments": {},
   "cell_type": "markdown",
   "metadata": {},
   "source": [
    "String"
   ]
  },
  {
   "attachments": {},
   "cell_type": "markdown",
   "metadata": {},
   "source": [
    "1"
   ]
  },
  {
   "cell_type": "code",
   "execution_count": 2,
   "metadata": {},
   "outputs": [
    {
     "name": "stdout",
     "output_type": "stream",
     "text": [
      "banana\n"
     ]
    }
   ],
   "source": [
    "string = \"HOusE\"\n",
    "string = \"ApplE\"\n",
    "string = \"BaNaNa\"\n",
    "\n",
    "\n",
    "uppercase = 0\n",
    "lowercase = 0\n",
    "\n",
    "for i in string:\n",
    "    if i.isupper():\n",
    "        uppercase += 1\n",
    "    elif i.islower():\n",
    "        lowercase += 1\n",
    "\n",
    "print(string.upper() if uppercase > lowercase else string.lower())        \n"
   ]
  },
  {
   "attachments": {},
   "cell_type": "markdown",
   "metadata": {},
   "source": [
    "2"
   ]
  },
  {
   "cell_type": "code",
   "execution_count": 3,
   "metadata": {},
   "outputs": [
    {
     "name": "stdout",
     "output_type": "stream",
     "text": [
      "WORD\n"
     ]
    }
   ],
   "source": [
    "string = \"213213\"\n",
    "string = \"jhg231j213\"\n",
    "string = \"Hello\"\n",
    "\n",
    "if string.isdigit():\n",
    "    print(\"NUMBER\")\n",
    "elif string.isalpha():\n",
    "    print(\"WORD\")\n",
    "else:\n",
    "    print(\"MIXED\")"
   ]
  },
  {
   "attachments": {},
   "cell_type": "markdown",
   "metadata": {},
   "source": [
    "3"
   ]
  },
  {
   "cell_type": "code",
   "execution_count": 4,
   "metadata": {},
   "outputs": [
    {
     "name": "stdout",
     "output_type": "stream",
     "text": [
      "BLANK\n",
      "\n"
     ]
    }
   ],
   "source": [
    "string = \"baNgladEsh\"\n",
    "string = \"coDIng\"\n",
    "\n",
    "first_upper = -1\n",
    "last_upper = -1\n",
    "\n",
    "for i in range(len(string)):\n",
    "    if string[i].isupper():\n",
    "        if first_upper == -1:\n",
    "            first_upper = i\n",
    "        else:\n",
    "            last_upper = i\n",
    "\n",
    "if last_upper == first_upper + 1:\n",
    "    print(\"BLANK\")\n",
    "\n",
    "result = string[first_upper+1:last_upper]\n",
    "\n",
    "print(result)   \n"
   ]
  },
  {
   "attachments": {},
   "cell_type": "markdown",
   "metadata": {},
   "source": [
    "4"
   ]
  },
  {
   "cell_type": "code",
   "execution_count": 5,
   "metadata": {},
   "outputs": [
    {
     "name": "stdout",
     "output_type": "stream",
     "text": [
      "Nothing in common\n",
      "\n"
     ]
    }
   ],
   "source": [
    "string = \"harry\"\n",
    "string_to_check_against = \"hermione\"\n",
    "string = \"dean\"\n",
    "string_to_check_against = \"tom\"\n",
    "\n",
    "same_str = \"\"\n",
    "\n",
    "for str in string:\n",
    "    if str in string_to_check_against:\n",
    "        same_str += str\n",
    "\n",
    "if same_str == \"\":\n",
    "    print(\"Nothing in common\")\n",
    "    \n",
    "print(same_str)\n"
   ]
  },
  {
   "attachments": {},
   "cell_type": "markdown",
   "metadata": {},
   "source": [
    "5"
   ]
  },
  {
   "cell_type": "code",
   "execution_count": 6,
   "metadata": {},
   "outputs": [
    {
     "name": "stdout",
     "output_type": "stream",
     "text": [
      "OK\n"
     ]
    }
   ],
   "source": [
    "password = \"ohMyBR@CU\"\n",
    "password = \"ohmybracu\"\n",
    "password = \"OhMyBR@CU20\"\n",
    "\n",
    "errors = []\n",
    "if not any(char.isupper() for char in password):\n",
    "    errors.append(\"Uppercase character missing\")\n",
    "if not any(char.islower() for char in password):\n",
    "    errors.append(\"Lowercase character missing\")\n",
    "if not any(char.isdigit() for char in password):\n",
    "    errors.append(\"Digit missing\")\n",
    "if not any(char in \"_@#$\" for char in password):\n",
    "    errors.append(\"Special character missing\")\n",
    "\n",
    "if errors:\n",
    "    print(\", \".join(errors))\n",
    "else:\n",
    "    print(\"OK\")\n"
   ]
  },
  {
   "attachments": {},
   "cell_type": "markdown",
   "metadata": {},
   "source": [
    "List"
   ]
  },
  {
   "attachments": {},
   "cell_type": "markdown",
   "metadata": {},
   "source": [
    "1"
   ]
  },
  {
   "cell_type": "code",
   "execution_count": 12,
   "metadata": {},
   "outputs": [],
   "source": [
    "numbers = {}\n",
    "while True:\n",
    "    num = input()\n",
    "    if num.upper() == \"STOP\":\n",
    "        break\n",
    "    if num in numbers:\n",
    "        numbers[num] += 1\n",
    "    else:\n",
    "        numbers[num] = 1\n",
    "\n",
    "for num, freq in numbers.items():\n",
    "    print(num, \"-\", freq, \"times\")\n"
   ]
  },
  {
   "attachments": {},
   "cell_type": "markdown",
   "metadata": {},
   "source": [
    "2"
   ]
  },
  {
   "cell_type": "code",
   "execution_count": 2,
   "metadata": {},
   "outputs": [
    {
     "name": "stdout",
     "output_type": "stream",
     "text": [
      "33\n",
      "[10, 11, 12]\n"
     ]
    }
   ],
   "source": [
    "n = int(input())\n",
    "sums = []\n",
    "lists = []\n",
    "for i in range(n):\n",
    "    lst = list(map(int, input().split()))\n",
    "    sums.append(sum(lst))\n",
    "    lists.append(lst)\n",
    "max_sum_index = sums.index(max(sums))\n",
    "print(max(sums))\n",
    "print(lists[max_sum_index])\n"
   ]
  },
  {
   "attachments": {},
   "cell_type": "markdown",
   "metadata": {},
   "source": [
    "3"
   ]
  },
  {
   "cell_type": "code",
   "execution_count": 4,
   "metadata": {},
   "outputs": [
    {
     "name": "stdout",
     "output_type": "stream",
     "text": [
      "[6, 8, 10, 9, 12, 15, 18, 24, 30]\n"
     ]
    }
   ],
   "source": [
    "list1 = [int(i) for i in input().split()]\n",
    "list2 = [int(i) for i in input().split()]\n",
    "result = []\n",
    "for i in list1:\n",
    "    for j in list2:\n",
    "        result.append(i*j)\n",
    "print(result)\n"
   ]
  },
  {
   "attachments": {},
   "cell_type": "markdown",
   "metadata": {},
   "source": [
    "4"
   ]
  },
  {
   "cell_type": "code",
   "execution_count": 8,
   "metadata": {},
   "outputs": [
    {
     "name": "stdout",
     "output_type": "stream",
     "text": [
      "UB Jumper\n",
      "UB Jumper\n",
      "Not UB Jumper\n"
     ]
    }
   ],
   "source": [
    "def UB_Jupmer(List):\n",
    "    \"\"\"\n",
    "    Given a list as input, this function returns True if the input \n",
    "    list is a UB Jumper or return False otherwise.\n",
    "    \"\"\"\n",
    "    ref_list = [num for num in range(1, len(List))]\n",
    "    abs_diff = []\n",
    "\n",
    "    for i in range(len(List) - 1):\n",
    "        elem = List[i] - List[i + 1]\n",
    "        elem = abs(elem)\n",
    "        abs_diff.append(elem)\n",
    "\n",
    "    if sorted(ref_list) == sorted(abs_diff):\n",
    "        return True\n",
    "    else:\n",
    "        return False\n",
    "\n",
    "\n",
    "user_input = input()\n",
    "result = []\n",
    "while user_input != \"STOP\":\n",
    "    List = [int(num) for num in user_input.split()]\n",
    "\n",
    "    if UB_Jupmer(List):\n",
    "        result.append(\"UB Jumper\")\n",
    "    else:\n",
    "        result.append(\"Not UB Jumper\")\n",
    "\n",
    "    user_input = input()\n",
    "\n",
    "for output in result:\n",
    "    print(output)"
   ]
  },
  {
   "attachments": {},
   "cell_type": "markdown",
   "metadata": {},
   "source": [
    "5"
   ]
  },
  {
   "cell_type": "code",
   "execution_count": 13,
   "metadata": {},
   "outputs": [
    {
     "name": "stdout",
     "output_type": "stream",
     "text": [
      "2\n"
     ]
    }
   ],
   "source": [
    "member_count, times = tuple(int(num) for num in input().split())\n",
    "joined_data = [int(i) for i in input().split()]\n",
    "\n",
    "while len(joined_data) != member_count:\n",
    "    print(\n",
    "        \"Member count and member participation data doesn't match. Please enter member participation data again.\"\n",
    "    )\n",
    "    joined_data = [int(i) for i in input().split()]\n",
    "\n",
    "approved = [int(i) for i in joined_data if (i + times <= 5)]\n",
    "\n",
    "appr = len(approved)\n",
    "\n",
    "if appr < 3:\n",
    "    print(0)\n",
    "else:\n",
    "    if appr % 3 == 0:\n",
    "        print(appr // 3)\n",
    "    elif (appr - 1) % 3 == 0:\n",
    "        print((appr - 1) // 3)\n",
    "    elif (appr - 2) % 3 == 0:\n",
    "        print((appr - 2) // 3)"
   ]
  },
  {
   "attachments": {},
   "cell_type": "markdown",
   "metadata": {},
   "source": [
    "Dictionary"
   ]
  },
  {
   "attachments": {},
   "cell_type": "markdown",
   "metadata": {},
   "source": [
    "1"
   ]
  },
  {
   "cell_type": "code",
   "execution_count": 2,
   "metadata": {},
   "outputs": [
    {
     "name": "stdout",
     "output_type": "stream",
     "text": [
      "{'a': 400, 'b': 300, 'c': 200, 'd': 700, 'e': 200}\n",
      "Values: (200, 300, 400, 700)\n"
     ]
    }
   ],
   "source": [
    "def combine_dictionaries(dict_1, dict_2):\n",
    "    \"\"\"\n",
    "    Given two dictionaries, this function returns a new dictionary\n",
    "    combining the two input dictionaries and adding the values for\n",
    "    the common key.\n",
    "    \"\"\"\n",
    "    combined_dict = {}\n",
    "\n",
    "    for key in dict_1:\n",
    "        if key in dict_2:\n",
    "            new_value = dict_1[key] + dict_2[key]\n",
    "        else:\n",
    "            new_value = dict_1[key]\n",
    "\n",
    "        combined_dict[key] = new_value\n",
    "\n",
    "    for key in dict_2:\n",
    "        if key not in combined_dict:\n",
    "            combined_dict[key] = dict_2[key]\n",
    "\n",
    "    return combined_dict\n",
    "\n",
    "\n",
    "str_input_1 = input()  # \"a: 100, b: 100, c: 200, d: 300\" #Question Example Inputs\n",
    "str_input_2 = input()  # \"a: 300, b: 200, d: 400, e: 200\" #Question Example Inputs\n",
    "\n",
    "dict_1 = dict(\n",
    "    (x.strip(), int(y.strip()))\n",
    "    for x, y in (element.split(\":\") for element in str_input_1.split(\", \"))\n",
    ")\n",
    "\n",
    "dict_2 = dict(\n",
    "    (x.strip(), int(y.strip()))\n",
    "    for x, y in (element.split(\":\") for element in str_input_2.split(\", \"))\n",
    ")\n",
    "\n",
    "result = combine_dictionaries(dict_1, dict_2)\n",
    "unique_value = tuple(sorted(set(result[value] for value in result)))   #Made set for removing all the duplicate, then sorted and made into a tuple.\n",
    "print(result)\n",
    "print(f\"Values: {unique_value}\")"
   ]
  },
  {
   "attachments": {},
   "cell_type": "markdown",
   "metadata": {},
   "source": [
    "2"
   ]
  },
  {
   "cell_type": "code",
   "execution_count": 3,
   "metadata": {},
   "outputs": [
    {
     "name": "stdout",
     "output_type": "stream",
     "text": [
      "10 - 2 times\n",
      "20 - 2 times\n",
      "30 - 1 times\n",
      "50 - 1 times\n",
      "90 - 1 times\n"
     ]
    }
   ],
   "source": [
    "dict1={}\n",
    "count=1\n",
    "list1=[]\n",
    "while count>0:\n",
    "    num=input()\n",
    "    if num==\"STOP\":\n",
    "        break \n",
    "    else:\n",
    "        count+=1\n",
    "        if int(num) not in dict1:\n",
    "            dict1[int(num)]=1\n",
    "        else:\n",
    "            dict1[int(num)]+=1\n",
    "for key,value in dict1.items():\n",
    "    print(f\"{key} - {value} times\")\n",
    "    "
   ]
  },
  {
   "attachments": {},
   "cell_type": "markdown",
   "metadata": {},
   "source": [
    "3"
   ]
  },
  {
   "cell_type": "code",
   "execution_count": 5,
   "metadata": {},
   "outputs": [
    {
     "name": "stdout",
     "output_type": "stream",
     "text": [
      "{'value1': ['key1', 'key3'], 'value2': ['key2']}\n"
     ]
    }
   ],
   "source": [
    "def invert(dictionary):\n",
    "    \"\"\"\n",
    "    Given a dictionary as input, this function returns a new dictionary\n",
    "    with the \"value\" of the first dictionary as its \"key\" and a list of \n",
    "    \"key\" from the first dictionary as its \"value\".\n",
    "    \"\"\"\n",
    "    Dict = {}\n",
    "    for item1, item2 in dictionary.items():\n",
    "        if item2 in Dict:\n",
    "            Dict[item2] = Dict[item2] + [item1]\n",
    "        else:\n",
    "            Dict[item2] = [item1]\n",
    "            \n",
    "    return Dict\n",
    "\n",
    "\n",
    "str_input = input()  # \"Key1 : value1, Key2 : value2, key3 : value1\" #Question Input Example\n",
    "\n",
    "dictionary = dict(\n",
    "    (x.strip(), y.strip())\n",
    "    for x, y in (item.split(\":\") for item in str_input.split(\", \"))\n",
    ")\n",
    "\n",
    "result = invert(dictionary)\n",
    "print(result)"
   ]
  },
  {
   "attachments": {},
   "cell_type": "markdown",
   "metadata": {},
   "source": [
    "4"
   ]
  },
  {
   "cell_type": "code",
   "execution_count": 6,
   "metadata": {},
   "outputs": [
    {
     "name": "stdout",
     "output_type": "stream",
     "text": [
      "4433555555666110966677755531111"
     ]
    }
   ],
   "source": [
    "def key_map(string):\n",
    "    \"\"\"\n",
    "    Given a string, this function retruns the key presses needed \n",
    "    for that string to be entered on some basic cell phones.\n",
    "    \"\"\"\n",
    "    key_map = {\n",
    "        \".\": 1, \",\": 11, \"?\": 111, \"!\": 1111, \":\": 11111,\n",
    "        \"A\": 2, \"B\": 22, \"C\": 222,\n",
    "        \"D\": 3, \"E\": 33, \"F\": 333,\n",
    "        \"G\": 4, \"H\": 44, \"I\": 444,\n",
    "        \"J\": 5, \"K\": 55, \"L\": 555,\n",
    "        \"M\": 6, \"N\": 66, \"O\": 666,\n",
    "        \"P\": 7, \"Q\": 77, \"R\": 777, \"S\": 7777,\n",
    "        \"T\": 8, \"U\": 88, \"V\": 888,\n",
    "        \"W\": 9, \"X\": 99, \"Y\": 999, \"Z\": 9999,\n",
    "        \" \": 0\n",
    "    }\n",
    "    map = {2: \"ABC\", 3: \"DEF\"}\n",
    "    \n",
    "\n",
    "    return key_map.get(string, f\"(No-Key-For:{string})\")\n",
    "\n",
    "user_input = input().upper()\n",
    "for char in user_input:\n",
    "    key = key_map(char)\n",
    "    print(key, end=\"\")"
   ]
  },
  {
   "attachments": {},
   "cell_type": "markdown",
   "metadata": {},
   "source": [
    "Day 1"
   ]
  },
  {
   "attachments": {},
   "cell_type": "markdown",
   "metadata": {},
   "source": [
    "1"
   ]
  },
  {
   "cell_type": "code",
   "execution_count": 9,
   "metadata": {},
   "outputs": [
    {
     "name": "stdout",
     "output_type": "stream",
     "text": [
      "Score is: 20.8. You are Normal\n"
     ]
    }
   ],
   "source": [
    "def BMI(height, weight):\n",
    "\n",
    "    height_m = height / 100\n",
    "\n",
    "    BMI = weight / (height_m ** 2)\n",
    "\n",
    "    if BMI < 18.5:\n",
    "        condition = \"Underweight\"\n",
    "    elif BMI < 25:\n",
    "        condition = \"Normal\"\n",
    "    elif BMI < 30:\n",
    "        condition = \"Overweight\"\n",
    "    else:\n",
    "        condition = \"Obese\"\n",
    "\n",
    "    print(f\"Score is: {round(BMI, 1)}. You are {condition}\")\n",
    "\n",
    "BMI(152, 48)\n"
   ]
  },
  {
   "attachments": {},
   "cell_type": "markdown",
   "metadata": {},
   "source": [
    "2"
   ]
  },
  {
   "cell_type": "code",
   "execution_count": 12,
   "metadata": {},
   "outputs": [
    {
     "name": "stdout",
     "output_type": "stream",
     "text": [
      "223.6\n"
     ]
    }
   ],
   "source": [
    "def calculate_price(burger_name, place=\"Mohakhali\"):\n",
    "\n",
    "    menu = {\"BBQ Chicken Cheese Burger\": 250, \"Beef Burger\": 170, \"Naga Drums\": 200}\n",
    "\n",
    "    price = menu[burger_name]\n",
    "\n",
    "    if place == \"Mohakhali\":\n",
    "        delivery_charge = 40\n",
    "    else:\n",
    "        delivery_charge = 60\n",
    "\n",
    "    tax = 0.08 * price\n",
    "\n",
    "    total_price = price + delivery_charge + tax\n",
    "\n",
    "    print(round(total_price, 2))\n",
    "\n",
    "calculate_price(\"Beef Burger\")\n",
    "\n"
   ]
  },
  {
   "attachments": {},
   "cell_type": "markdown",
   "metadata": {},
   "source": [
    "3"
   ]
  },
  {
   "cell_type": "code",
   "execution_count": 7,
   "metadata": {},
   "outputs": [
    {
     "name": "stdout",
     "output_type": "stream",
     "text": [
      "Unchanged: bob@sheba.xyz\n"
     ]
    }
   ],
   "source": [
    "def replace_domain(email, new_domain, old_domain=\"sheba.xyz\"):\n",
    "\n",
    "    username, domain = email.split('@')\n",
    "\n",
    "    if domain == old_domain:\n",
    "\n",
    "        domain = new_domain\n",
    "\n",
    "    new_email = username + '@' + domain\n",
    "\n",
    "    if new_email == email:\n",
    "        print(\"Unchanged:\", new_email)\n",
    "    else:\n",
    "        print(\"Changed:\", new_email)\n",
    "\n",
    "replace_domain(\"bob@sheba.xyz\", 'sheba.xyz')"
   ]
  },
  {
   "attachments": {},
   "cell_type": "markdown",
   "metadata": {},
   "source": [
    "4"
   ]
  },
  {
   "cell_type": "code",
   "execution_count": 11,
   "metadata": {},
   "outputs": [
    {
     "name": "stdout",
     "output_type": "stream",
     "text": [
      "Palindrome\n"
     ]
    }
   ],
   "source": [
    "def is_palindrome(s):\n",
    "\n",
    "    s = s.replace(\" \", \"\")\n",
    "\n",
    "    if s == s[::-1]:\n",
    "        return True\n",
    "    else:\n",
    "        return False\n",
    "\n",
    "input_string = \"nurses run\"\n",
    "if is_palindrome(input_string.lower()):\n",
    "    print(\"Palindrome\")\n",
    "else:\n",
    "    print(\"Not a palindrome\")\n"
   ]
  },
  {
   "attachments": {},
   "cell_type": "markdown",
   "metadata": {},
   "source": [
    "5"
   ]
  },
  {
   "cell_type": "code",
   "execution_count": 16,
   "metadata": {},
   "outputs": [
    {
     "name": "stdout",
     "output_type": "stream",
     "text": [
      "10 years, 11 months and 20 days\n"
     ]
    }
   ],
   "source": [
    "def calculate_time(days):\n",
    " \n",
    "    years = days // 365\n",
    "    days -= years * 365\n",
    "\n",
    "    months = days // 30\n",
    "    days -= months * 30\n",
    "\n",
    "    return years, months, days\n",
    "\n",
    "years, months, days = calculate_time(4000)\n",
    "print(f\"{years} years, {months} months and {days} days\")\n"
   ]
  },
  {
   "attachments": {},
   "cell_type": "markdown",
   "metadata": {},
   "source": [
    "6"
   ]
  },
  {
   "cell_type": "code",
   "execution_count": 5,
   "metadata": {},
   "outputs": [
    {
     "name": "stdout",
     "output_type": "stream",
     "text": [
      "MY favourite animal Is a dog. a dog has sharp teeth so that It can eat flesh very easily. do you know my pet dog's name? I love my pet very much.\n"
     ]
    }
   ],
   "source": [
    "def capitalize_string(s):\n",
    "\n",
    "    capitalize_next = True\n",
    "\n",
    "    output = s[0].upper()\n",
    "\n",
    "    for i in range(1, len(s)):\n",
    "        if capitalize_next:\n",
    "            output += s[i].upper()\n",
    "            capitalize_next = False\n",
    "        else:\n",
    "            output += s[i]\n",
    "\n",
    "        if s[i] in [\".\", \"!\", \"?\"]:\n",
    "            capitalize_next = True\n",
    "\n",
    "        if s[i-1] == \" \" and s[i] == \"i\":\n",
    "            output = output[:-1] + \"I\"\n",
    "\n",
    "    return output\n",
    "\n",
    "input_string = \"my favourite animal is a dog. a dog has sharp teeth so that it can eat flesh very easily. do you know my pet dog's name? i love my pet very much.\"\n",
    "output_string = capitalize_string(input_string)\n",
    "print(output_string)\n"
   ]
  },
  {
   "attachments": {},
   "cell_type": "markdown",
   "metadata": {},
   "source": [
    "Day 2"
   ]
  },
  {
   "attachments": {},
   "cell_type": "markdown",
   "metadata": {},
   "source": [
    "1"
   ]
  },
  {
   "cell_type": "code",
   "execution_count": 1,
   "metadata": {},
   "outputs": [
    {
     "name": "stdout",
     "output_type": "stream",
     "text": [
      "=====================================\n",
      "User Name: Bilbo\n",
      "Balance: 1.0\n",
      "Account Type: Savings\n",
      "=====================================\n",
      "User Name: Frodo\n",
      "Balance: 1.0\n",
      "Account Type: Business\n",
      "=====================================\n",
      "New account balance of Bilbo is 15.75\n",
      "New account balance of Frodo is 700.5\n"
     ]
    }
   ],
   "source": [
    "class BankAccount:\n",
    "    def __init__(self, user_name, account_type):\n",
    "        self.user_name = user_name\n",
    "        self.balance = 1.0\n",
    "        self.account_type = account_type\n",
    "\n",
    "account1 = BankAccount(\"Bilbo\", \"Savings\")\n",
    "print(\"=====================================\")\n",
    "print(f\"User Name: {account1.user_name}\")\n",
    "print(f\"Balance: {account1.balance}\")\n",
    "print(f\"Account Type: {account1.account_type}\")\n",
    "print(\"=====================================\")\n",
    "\n",
    "account2 = BankAccount(\"Frodo\", \"Business\")\n",
    "print(f\"User Name: {account2.user_name}\")\n",
    "print(f\"Balance: {account2.balance}\")\n",
    "print(f\"Account Type: {account2.account_type}\")\n",
    "print(\"=====================================\")\n",
    "\n",
    "account1.balance = 15.75\n",
    "account2.balance = 700.50\n",
    "\n",
    "print(f\"New account balance of {account1.user_name} is {account1.balance}\")\n",
    "print(f\"New account balance of {account2.user_name} is {account2.balance}\")\n"
   ]
  },
  {
   "attachments": {},
   "cell_type": "markdown",
   "metadata": {},
   "source": [
    "2"
   ]
  },
  {
   "cell_type": "code",
   "execution_count": 12,
   "metadata": {},
   "outputs": [
    {
     "name": "stdout",
     "output_type": "stream",
     "text": [
      "=====================================\n",
      "Mango Tree Details:\n",
      "Variety: Gopalbhog\n",
      "Height: 1 meter(s)\n",
      "Number of mangoes on the tree: 0\n",
      "=====================================\n",
      "Mango Tree Details:\n",
      "Variety: Amrapali\n",
      "Height: 1 meter(s)\n",
      "Number of mangoes on the tree: 0\n",
      "=====================================\n",
      "Updated details after 5 years:\n",
      "=====================================\n",
      "Variety: Gopalbhog\n",
      "Height: 16 meter(s)\n",
      "Number of mangoes on the tree: 160\n",
      "=====================================\n",
      "Variety: Amrapali\n",
      "Height: 16 meter(s)\n",
      "Number of mangoes on the tree: 240\n",
      "=====================================\n"
     ]
    }
   ],
   "source": [
    "class MangoTree:\n",
    "    def __init__(self, variety):\n",
    "        self.variety = variety\n",
    "        self.height = 1\n",
    "        self.number_of_mangoes = 0\n",
    "\n",
    "\n",
    "mangoTree1= MangoTree(\"Gopalbhog\")\n",
    "print(\"=====================================\")\n",
    "print(\"Mango Tree Details:\")\n",
    "print(f\"Variety: {mangoTree1.variety}\")\n",
    "print(f\"Height: {mangoTree1.height} meter(s)\")\n",
    "print(f\"Number of mangoes on the tree: {mangoTree1.number_of_mangoes}\")\n",
    "print(\"=====================================\")\n",
    "\n",
    "\n",
    "mangoTree2= MangoTree(\"Amrapali\")\n",
    "print(\"Mango Tree Details:\")\n",
    "print(f\"Variety: {mangoTree2.variety}\")\n",
    "print(f\"Height: {mangoTree2.height} meter(s)\")\n",
    "print(f\"Number of mangoes on the tree: {mangoTree2.number_of_mangoes}\")\n",
    "print(\"=====================================\")\n",
    "\n",
    "\n",
    "for i in range(5):\n",
    "    mangoTree1.height += 3\n",
    "    mangoTree1.number_of_mangoes = mangoTree1.height * 10\n",
    "\n",
    "\n",
    "    mangoTree2.height += 3\n",
    "    mangoTree2.number_of_mangoes = mangoTree2.height * 15\n",
    "\n",
    "\n",
    "print(\"Updated details after 5 years:\")\n",
    "print(\"=====================================\")\n",
    "print(f\"Variety: {mangoTree1.variety}\")\n",
    "\n",
    "\n",
    "print(f\"Height: {mangoTree1.height} meter(s)\")\n",
    "print(f\"Number of mangoes on the tree: {mangoTree1.number_of_mangoes}\")\n",
    "print(\"=====================================\")\n",
    "\n",
    "\n",
    "print(f\"Variety: {mangoTree2.variety}\")\n",
    "print(f\"Height: {mangoTree2.height} meter(s)\")\n",
    "print(f\"Number of mangoes on the tree: {mangoTree2.number_of_mangoes}\")\n",
    "print(\"=====================================\")\n"
   ]
  },
  {
   "attachments": {},
   "cell_type": "markdown",
   "metadata": {},
   "source": [
    "3"
   ]
  },
  {
   "cell_type": "code",
   "execution_count": 27,
   "metadata": {},
   "outputs": [
    {
     "name": "stdout",
     "output_type": "stream",
     "text": [
      "Contacts cannot be saved. Length Mismatch!\n",
      "Saved Contacts: {}\n",
      "---------------------------------------------\n",
      "Contacts saved successfully.\n",
      "Saved Contacts: {'Emergency': '999', 'Father': '01xx23', 'Bestie': '01xx87', 'Mother': '01xx65'}\n",
      "Contacts saved successfully.\n",
      "The two m1 objects have different references.\n"
     ]
    }
   ],
   "source": [
    "class Contacts:\n",
    "    def __init__(self, names, numbers):\n",
    "        if len(names) != len(numbers):\n",
    "            print(\"Contacts cannot be saved. Length Mismatch!\")\n",
    "            self.contactDict = {}\n",
    "        else:\n",
    "            self.contactDict = {}\n",
    "            for i in range(len(names)):\n",
    "                self.contactDict[names[i]] = numbers[i]\n",
    "            print(\"Contacts saved successfully.\")\n",
    "\n",
    "names = [\"Emergency\", \"Father\", \"Bestie\"]\n",
    "numbers = [\"999\", \"01xx23\", \"01xx87\", \"01xx65\", \"01xx43\"]\n",
    "\n",
    "m1 = Contacts(names, numbers)\n",
    "print(\"Saved Contacts:\", m1.contactDict)\n",
    "print(\"---------------------------------------------\")\n",
    "\n",
    "names.append(\"Mother\")\n",
    "numbers.pop()\n",
    "\n",
    "m2 = Contacts(names, numbers)\n",
    "print(\"Saved Contacts:\", m2.contactDict)\n",
    "\n",
    "temp_m1 = m1\n",
    "m1 = Contacts(names, numbers)\n",
    "\n",
    "if m1 is temp_m1:\n",
    "    print(\"The two m1 objects have the same reference.\")\n",
    "else:\n",
    "    print(\"The two m1 objects have different references.\")\n"
   ]
  },
  {
   "attachments": {},
   "cell_type": "markdown",
   "metadata": {},
   "source": [
    "4"
   ]
  },
  {
   "cell_type": "code",
   "execution_count": 2,
   "metadata": {},
   "outputs": [
    {
     "name": "stdout",
     "output_type": "stream",
     "text": [
      "All the best, Clark, for the upcoming semester.\n",
      "Name: Clark\n",
      "CGPA: 3.45\n",
      "Courses Taken: 4\n",
      "Student Status: Regular\n",
      "Advising Status: Approved\n",
      "--------------------------------------------------------------------------------\n",
      "Study hard this time, Barry.\n",
      "Name: Barry\n",
      "Student Status: Probation\n",
      "Advising Status: Approved\n",
      "--------------------------------------------------------------------------------\n",
      "Hello Diana, You are a regular student and have to take between 3 to 5 courses.\n",
      "Advising Status: Denied\n",
      "Courses Taken: 0\n",
      "--------------------------------------------------------------------------------\n",
      "Sorry, Bruce, you are on probation and cannot take more than 2 courses.\n",
      "Advising Status: Denied\n",
      "Courses Taken: 0\n"
     ]
    }
   ],
   "source": [
    "class Student:\n",
    "    def __init__(self, name, cgpa, courses_taken):\n",
    "        self.name = name\n",
    "        self.cgpa = cgpa\n",
    "        self.courses_taken = courses_taken\n",
    "        self.student_status = self.get_student_status()\n",
    "        self.advising_status = self.get_advising_status()\n",
    "\n",
    "    def get_student_status(self):\n",
    "        if self.cgpa < 2.00:\n",
    "            return \"Probation\"\n",
    "        else:\n",
    "            return \"Regular\"\n",
    "\n",
    "    def get_advising_status(self):\n",
    "        if self.student_status == \"Probation\":\n",
    "            if self.courses_taken < 1 or self.courses_taken > 2:\n",
    "                self.courses_taken = 0\n",
    "                return \"Denied\"\n",
    "            else:\n",
    "                return \"Approved\"\n",
    "        else:\n",
    "            if self.courses_taken < 3 or self.courses_taken > 5:\n",
    "                self.courses_taken = 0\n",
    "                return \"Denied\"\n",
    "            else:\n",
    "                return \"Approved\"\n",
    "\n",
    "s1 = Student(\"Clark\", 3.45, 4)\n",
    "print(f\"All the best, {s1.name}, for the upcoming semester.\")\n",
    "print(f\"Name: {s1.name}\\nCGPA: {s1.cgpa}\\nCourses Taken: {s1.courses_taken}\")\n",
    "print(f\"Student Status: {s1.student_status}\\nAdvising Status: {s1.advising_status}\")\n",
    "print(\"--------------------------------------------------------------------------------\")\n",
    "s2 = Student(\"Barry\", 1.93, 2)\n",
    "print(f\"Study hard this time, {s2.name}.\")\n",
    "print(f\"Name: {s2.name}\")\n",
    "print(f\"Student Status: {s2.student_status}\\nAdvising Status: {s2.advising_status}\")\n",
    "print(\"--------------------------------------------------------------------------------\")\n",
    "s3 = Student(\"Diana\", 2.91, 2)\n",
    "print(f\"Hello {s3.name}, You are a regular student and have to take between 3 to 5 courses.\")\n",
    "print(f\"Advising Status: {s3.advising_status}\\nCourses Taken: {s3.courses_taken}\")\n",
    "print(\"--------------------------------------------------------------------------------\")\n",
    "s4 = Student(\"Bruce\", 1.52, 5)\n",
    "print(f\"Sorry, {s4.name}, you are on probation and cannot take more than 2 courses.\")\n",
    "print(f\"Advising Status: {s4.advising_status}\\nCourses Taken: {s4.courses_taken}\")\n"
   ]
  },
  {
   "attachments": {},
   "cell_type": "markdown",
   "metadata": {},
   "source": [
    "5"
   ]
  },
  {
   "cell_type": "code",
   "execution_count": 1,
   "metadata": {},
   "outputs": [
    {
     "name": "stdout",
     "output_type": "stream",
     "text": [
      "Ferguson wrote the book 'The Act'.\n",
      "This book was published in 1924.\n",
      "This book is Rejected. The book is not antique enough.\n",
      "-------------------------------------\n",
      "Nolan wrote the book 'Flame'.\n",
      "This book was published in 1932.\n",
      "This book is Rejected. The book is not antique enough.\n",
      "-------------------------------------\n",
      "Alfred wrote the book 'Norms'.\n",
      "This book was published in 1832.\n",
      "This book is Rejected. The book is not antique enough.\n",
      "-------------------------------------\n",
      "Samson wrote the book 'Apex'.\n",
      "This book was published in 1923.\n",
      "This book is Rejected. The book is not antique enough.\n",
      "-------------------------------------\n",
      "Eden wrote the book 'Habitat'.\n",
      "This book was published in 1723.\n",
      "This book is Accepted. The book is stored on floor: 0.\n",
      "-------------------------------------\n",
      "Menez wrote the book 'Apocalypto'.\n",
      "This book was published in 1603.\n",
      "This book is Accepted. The book is stored on floor: 1.\n"
     ]
    }
   ],
   "source": [
    "import datetime\n",
    "\n",
    "class Book:\n",
    "    def __init__(self, name, author, year_of_publication):\n",
    "        self.name = name\n",
    "        self.author = author\n",
    "        self.year_of_publication = year_of_publication\n",
    "        self.status = self.check_status()\n",
    "\n",
    "    def check_status(self):\n",
    "        today = datetime.date.today()\n",
    "        year = today.year\n",
    "        age_of_book = year - self.year_of_publication\n",
    "\n",
    "        if age_of_book < 200:\n",
    "            return \"Rejected. The book is not antique enough.\"\n",
    "        elif age_of_book < 400:\n",
    "            return \"Accepted. The book is stored on floor: 0.\"\n",
    "        else:\n",
    "            return \"Accepted. The book is stored on floor: 1.\"\n",
    "            # For the given requirements, we only need two floors - 0 and 1. \n",
    "            # However, the instruction manual implies that there could be more than two floors.\n",
    "\n",
    "#Driver Code\n",
    "book1= Book('The Act', 'Ferguson', 1924)\n",
    "print(f\"{book1.author} wrote the book '{book1.name}'.\")\n",
    "print(f\"This book was published in {book1.year_of_publication}.\")\n",
    "print(f\"This book is {book1.status}\")\n",
    "print(\"-------------------------------------\")\n",
    "book2= Book('Flame', 'Nolan', 1932)\n",
    "print(f\"{book2.author} wrote the book '{book2.name}'.\")\n",
    "print(f\"This book was published in {book2.year_of_publication}.\")\n",
    "print(f\"This book is {book2.status}\")\n",
    "print(\"-------------------------------------\")\n",
    "book3= Book('Norms', 'Alfred', 1832)\n",
    "print(f\"{book3.author} wrote the book '{book3.name}'.\")\n",
    "print(f\"This book was published in {book3.year_of_publication}.\")\n",
    "print(f\"This book is {book3.status}\")\n",
    "print(\"-------------------------------------\")\n",
    "book4= Book('Apex', 'Samson', 1923)\n",
    "print(f\"{book4.author} wrote the book '{book4.name}'.\")\n",
    "print(f\"This book was published in {book4.year_of_publication}.\")\n",
    "print(f\"This book is {book4.status}\")\n",
    "print(\"-------------------------------------\")\n",
    "book5= Book('Habitat', 'Eden', 1723)\n",
    "print(f\"{book5.author} wrote the book '{book5.name}'.\")\n",
    "print(f\"This book was published in {book5.year_of_publication}.\")\n",
    "print(f\"This book is {book5.status}\")\n",
    "print(\"-------------------------------------\")\n",
    "book6= Book('Apocalypto', 'Menez', 1603)\n",
    "print(f\"{book6.author} wrote the book '{book6.name}'.\")\n",
    "print(f\"This book was published in {book6.year_of_publication}.\")\n",
    "print(f\"This book is {book6.status}\")\n"
   ]
  }
 ],
 "metadata": {
  "kernelspec": {
   "display_name": "Python 3",
   "language": "python",
   "name": "python3"
  },
  "language_info": {
   "codemirror_mode": {
    "name": "ipython",
    "version": 3
   },
   "file_extension": ".py",
   "mimetype": "text/x-python",
   "name": "python",
   "nbconvert_exporter": "python",
   "pygments_lexer": "ipython3",
   "version": "3.11.4"
  },
  "orig_nbformat": 4
 },
 "nbformat": 4,
 "nbformat_minor": 2
}
